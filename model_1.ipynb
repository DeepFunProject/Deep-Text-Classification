{
 "cells": [
  {
   "cell_type": "code",
   "execution_count": 0,
   "metadata": {
    "id": "eQhBYO0YALyV",
    "colab_type": "code",
    "colab": {}
   },
   "outputs": [],
   "source": [
    "pip3 install tensorflow==2.0.0-beta1"
   ]
  },
  {
   "cell_type": "code",
   "execution_count": 0,
   "metadata": {
    "id": "KjnA2WkKRoe3",
    "colab_type": "code",
    "colab": {}
   },
   "outputs": [],
   "source": [
    "import numpy as np\n",
    "import re\n",
    "import itertools\n",
    "from collections import Counter\n",
    "\n",
    "\n",
    "positiveDataAddress = './data/rt-polarity.pos'\n",
    "negativeDataAddress = './data/rt-polarity.neg'\n",
    "\n",
    "def clean_str(string):\n",
    "    \"\"\"\n",
    "    Tokenization/string cleaning for datasets.\n",
    "    Original taken from https://github.com/yoonkim/CNN_sentence/blob/master/process_data.py\n",
    "    \"\"\"\n",
    "    string = re.sub(r\"[^A-Za-z0-9(),!?\\'\\`]\", \" \", string)\n",
    "    string = re.sub(r\"\\'s\", \" \\'s\", string)\n",
    "    string = re.sub(r\"\\'ve\", \" \\'ve\", string)\n",
    "    string = re.sub(r\"n\\'t\", \" n\\'t\", string)\n",
    "    string = re.sub(r\"\\'re\", \" \\'re\", string)\n",
    "    string = re.sub(r\"\\'d\", \" \\'d\", string)\n",
    "    string = re.sub(r\"\\'ll\", \" \\'ll\", string)\n",
    "    string = re.sub(r\",\", \" , \", string)\n",
    "    string = re.sub(r\"!\", \" ! \", string)\n",
    "    string = re.sub(r\"\\(\", \" \\( \", string)\n",
    "    string = re.sub(r\"\\)\", \" \\) \", string)\n",
    "    string = re.sub(r\"\\?\", \" \\? \", string)\n",
    "    string = re.sub(r\"\\s{2,}\", \" \", string)\n",
    "    return string.strip().lower()\n",
    "  \n",
    "\n",
    "def load_data_and_labels():\n",
    "    \"\"\"\n",
    "    Loads polarity data from files, splits the data into words and generates labels.\n",
    "    Returns split sentences and labels.\n",
    "    \"\"\"\n",
    "    # Load data from file\n",
    "    positive_samples = list(open(positiveDataAddress, 'r', encoding='latin-1').readlines())\n",
    "    positive_samples = [s.strip() for s in positive_samples]\n",
    "    negative_samples = list(open(negativeDataAddress, 'r', encoding='latin-1').readlines())\n",
    "    negative_samples = [s.strip() for s in negative_samples]\n",
    "    \n",
    "    # Split by words\n",
    "    x_text = positive_samples + negative_samples\n",
    "    x_text = [clean_str(sent) for sent in x_text]\n",
    "    x_text = [s.split(\" \") for s in x_text]\n",
    "    \n",
    "    # Generate labels\n",
    "    positive_labels = [[0, 1] for _ in positive_samples]\n",
    "    negative_labels = [[1, 0] for _ in negative_samples]\n",
    "    \n",
    "    y = np.concatenate([positive_labels, negative_labels], 0)\n",
    "    \n",
    "    return [x_text, y]\n",
    "    \n",
    "def pad_sentences(sentences, padding_word=\"<PAD/>\"):\n",
    "    \"\"\"\n",
    "    Pads all sentences to the same length. The length is defined by the longest sentence.\n",
    "    Returns padded sentences.\n",
    "    \"\"\"\n",
    "    sequence_length = max(len(x) for x in sentences)\n",
    "    print(sequence_length)\n",
    "    padded_sentences = []\n",
    "    for i in range(len(sentences)):\n",
    "        sentence = sentences[i]\n",
    "        num_padding = sequence_length - len(sentence)\n",
    "        new_sentence = sentence + [padding_word] * num_padding\n",
    "        padded_sentences.append(new_sentence)\n",
    "    return padded_sentences\n",
    "  \n",
    "def build_vocab(sentences):\n",
    "    \"\"\"\n",
    "    Builds a vocabulary mapping from word to index based on the sentences.\n",
    "    Returns vocabulary mapping and inverse vocabulary mapping.\n",
    "    \"\"\"\n",
    "    # Build vocabulary\n",
    "    word_counts = Counter(itertools.chain(*sentences))\n",
    "    \n",
    "    # Mapping from index to word\n",
    "    vocabulary_inv = [x[0] for x in word_counts.most_common()]\n",
    "    vocabulary_inv = list(sorted(vocabulary_inv))\n",
    "    \n",
    "    # Mapping from word to index\n",
    "    vocabulary = {x: i for i, x in enumerate(vocabulary_inv)}\n",
    "    return [vocabulary, vocabulary_inv]\n",
    "  \n",
    "def build_input_data(sentences, labels, vocabulary):\n",
    "    \"\"\"\n",
    "    Maps sentences and labels to vectors based on a vocabulary.\n",
    "    \"\"\"\n",
    "    x = np.array([[vocabulary[word] for word in sentence] for sentence in sentences])\n",
    "    y = np.array(labels)\n",
    "    return [x, y]\n",
    "\n",
    "  \n",
    "def load_data():\n",
    "    \"\"\"\n",
    "    Loads and preprocessed data for the dataset.\n",
    "    Returns input vectors, labels, vocabulary, and inverse vocabulary.\n",
    "    \"\"\"\n",
    "    # Load and preprocess data\n",
    "    sentences, labels = load_data_and_labels()\n",
    "    sentences_padded = pad_sentences(sentences)\n",
    "    vocabulary, vocabulary_inv = build_vocab(sentences_padded)\n",
    "    x, y = build_input_data(sentences_padded, labels, vocabulary)\n",
    "    return [x, y, vocabulary, vocabulary_inv]"
   ]
  },
  {
   "cell_type": "code",
   "execution_count": 0,
   "metadata": {
    "id": "XEHHCWqbhgGj",
    "colab_type": "code",
    "colab": {}
   },
   "outputs": [],
   "source": [
    "import tensorflow as tf\n",
    "from tensorflow import keras\n",
    "from tensorflow.keras.layers import *\n",
    "from sklearn.model_selection import train_test_split\n",
    "from tensorflow.keras.callbacks import ModelCheckpoint"
   ]
  },
  {
   "cell_type": "code",
   "execution_count": 3,
   "metadata": {
    "id": "XEwiS4XxBjcI",
    "colab_type": "code",
    "outputId": "6787f5a6-2257-4b38-ff28-348df85e7984",
    "colab": {
     "base_uri": "https://localhost:8080/",
     "height": 34.0
    }
   },
   "outputs": [
    {
     "name": "stdout",
     "output_type": "stream",
     "text": [
      "Load Data...\n"
     ]
    }
   ],
   "source": [
    "print('Load Data...')\n",
    "x, y, vocabulary, vocabulary_inv = load_data()"
   ]
  },
  {
   "cell_type": "code",
   "execution_count": 0,
   "metadata": {
    "id": "JrXiSR1PFQ7W",
    "colab_type": "code",
    "colab": {}
   },
   "outputs": [],
   "source": [
    "x_shape = x.shape\n",
    "\n",
    "TEST_SPLIT=0.1\n",
    "VALIDATION_SPLIT=0.2\n",
    "\n",
    "MAX_SEQUENCE_LENGTH = x_shape[1] # 56\n",
    "vocabulary_size = len(vocabulary_inv) # 18765\n",
    "EMBEDDING_DIM = 300\n",
    "filter_sizes = [3,4,5]\n",
    "num_filters = 64\n",
    "drop = 0.2\n",
    "n_epochs = 100\n",
    "BATCH_SIZE = 30"
   ]
  },
  {
   "cell_type": "code",
   "execution_count": 5,
   "metadata": {
    "id": "1tgMtt7sB2w-",
    "colab_type": "code",
    "outputId": "3baff38f-8025-426b-e2bf-aa675f295d72",
    "colab": {
     "base_uri": "https://localhost:8080/",
     "height": 51.0
    }
   },
   "outputs": [
    {
     "name": "stdout",
     "output_type": "stream",
     "text": [
      "The number of sentences is : 10662 , The lenght of sentences is : 56\n",
      "We have 18765 words in our sentences\n"
     ]
    }
   ],
   "source": [
    "print('The number of sentences is :', x_shape[0], ', The lenght of sentences is :', x_shape[1])\n",
    "print('We have {} words in our sentences'.format(vocabulary_size))"
   ]
  },
  {
   "cell_type": "code",
   "execution_count": 6,
   "metadata": {
    "id": "gzBmNJeEDiWj",
    "colab_type": "code",
    "outputId": "464f3cd1-7ead-4606-e470-c3784b78b152",
    "colab": {
     "base_uri": "https://localhost:8080/",
     "height": 68.0
    }
   },
   "outputs": [
    {
     "name": "stdout",
     "output_type": "stream",
     "text": [
      "We have 7676 TRAINING samples\n",
      "We have 1919 VALIDATION samples\n",
      "We have 1067 TEST samples\n"
     ]
    }
   ],
   "source": [
    "# split data into train and test\n",
    "    X_train, X_test, y_train, y_test = train_test_split(x, y,\n",
    "                                                        test_size=TEST_SPLIT,\n",
    "                                                        random_state=42)\n",
    "\n",
    "    # split training data into train and validation\n",
    "    X_train, X_val, y_train, y_val = train_test_split(X_train, y_train,\n",
    "                                                      test_size=VALIDATION_SPLIT,\n",
    "                                                      random_state=1)\n",
    "\n",
    "    n_train_samples = X_train.shape[0]\n",
    "    n_val_samples = X_val.shape[0]\n",
    "    n_test_samples = X_test.shape[0]\n",
    "\n",
    "    print('We have %d TRAINING samples' % n_train_samples)\n",
    "    print('We have %d VALIDATION samples' % n_val_samples)\n",
    "    print('We have %d TEST samples' % n_test_samples)"
   ]
  },
  {
   "cell_type": "code",
   "execution_count": 0,
   "metadata": {
    "id": "ShAzTYoIE-2X",
    "colab_type": "code",
    "colab": {}
   },
   "outputs": [],
   "source": [
    "inputs = Input(shape=(MAX_SEQUENCE_LENGTH, ), dtype='int32')\n",
    "embedding = Embedding(input_dim=vocabulary_size, output_dim=EMBEDDING_DIM, input_length=MAX_SEQUENCE_LENGTH)(inputs)\n",
    "reshape = Reshape((MAX_SEQUENCE_LENGTH, EMBEDDING_DIM, 1))(embedding)\n",
    "\n",
    "conv_0 = Conv2D(num_filters, kernel_size=(filter_sizes[0], EMBEDDING_DIM), strides=1, padding='valid', kernel_initializer='normal', activation='relu')(reshape)\n",
    "bn_0 = BatchNormalization()(conv_0)\n",
    "conv_1 = Conv2D(num_filters, kernel_size=(filter_sizes[1], EMBEDDING_DIM), strides=1, padding='valid', kernel_initializer='normal', activation='relu')(reshape)\n",
    "bn_1 = BatchNormalization()(conv_1)\n",
    "conv_2 = Conv2D(num_filters, kernel_size=(filter_sizes[2], EMBEDDING_DIM), strides=1, padding='valid', kernel_initializer='normal', activation='relu')(reshape)\n",
    "bn_2 = BatchNormalization()(conv_2)\n",
    "\n",
    "maxpool_0 = MaxPool2D(pool_size=(MAX_SEQUENCE_LENGTH - filter_sizes[0] + 1, 1), padding='valid')(bn_0)\n",
    "maxpool_1 = MaxPool2D(pool_size=(MAX_SEQUENCE_LENGTH - filter_sizes[1] + 1, 1), padding='valid')(bn_1)\n",
    "maxpool_2 = MaxPool2D(pool_size=(MAX_SEQUENCE_LENGTH - filter_sizes[2] + 1, 1), padding='valid')(bn_2)\n",
    "\n",
    "concatenated_tensor_1 = keras.layers.concatenate([maxpool_0, maxpool_1, maxpool_2])\n",
    "flatten_1 = Flatten()(concatenated_tensor_1)\n",
    "dense_1 = Dense(units=10, activation='tanh')(flatten_1)\n",
    "dropout_1 = Dropout(drop)(dense_1)"
   ]
  },
  {
   "cell_type": "code",
   "execution_count": 0,
   "metadata": {
    "id": "nxsxb87_ECiR",
    "colab_type": "code",
    "colab": {}
   },
   "outputs": [],
   "source": [
    "lstm_0 = LSTM(64, return_sequences=True, activation='relu')(embedding)\n",
    "bn_3 = BatchNormalization()(lstm_0)\n",
    "lstm_1 = LSTM(32, return_sequences=False, activation='relu')(bn_3)\n",
    "bn_4 = BatchNormalization()(lstm_1)\n",
    "dense_2 = Dense(units=10, activation='tanh')(bn_4)\n",
    "dropout_2 = Dropout(drop)(dense_2)"
   ]
  },
  {
   "cell_type": "code",
   "execution_count": 0,
   "metadata": {
    "id": "ZM4q53MsFaxc",
    "colab_type": "code",
    "colab": {}
   },
   "outputs": [],
   "source": [
    "concatenated_tensor_2 = keras.layers.concatenate([dropout_1, dropout_2])\n",
    "output = Dense(units=2, activation='softmax')(concatenated_tensor_2)"
   ]
  },
  {
   "cell_type": "code",
   "execution_count": 10,
   "metadata": {
    "id": "-KsL1jsHKoKE",
    "colab_type": "code",
    "outputId": "2ed8dba6-507d-4f49-d87b-b3788ef67501",
    "colab": {
     "base_uri": "https://localhost:8080/",
     "height": 1000.0
    }
   },
   "outputs": [
    {
     "name": "stdout",
     "output_type": "stream",
     "text": [
      "Model: \"model\"\n",
      "__________________________________________________________________________________________________\n",
      "Layer (type)                    Output Shape         Param #     Connected to                     \n",
      "==================================================================================================\n",
      "input_1 (InputLayer)            [(None, 56)]         0                                            \n",
      "__________________________________________________________________________________________________\n",
      "embedding (Embedding)           (None, 56, 300)      5629500     input_1[0][0]                    \n",
      "__________________________________________________________________________________________________\n",
      "reshape (Reshape)               (None, 56, 300, 1)   0           embedding[0][0]                  \n",
      "__________________________________________________________________________________________________\n",
      "conv2d (Conv2D)                 (None, 54, 1, 64)    57664       reshape[0][0]                    \n",
      "__________________________________________________________________________________________________\n",
      "conv2d_1 (Conv2D)               (None, 53, 1, 64)    76864       reshape[0][0]                    \n",
      "__________________________________________________________________________________________________\n",
      "conv2d_2 (Conv2D)               (None, 52, 1, 64)    96064       reshape[0][0]                    \n",
      "__________________________________________________________________________________________________\n",
      "batch_normalization (BatchNorma (None, 54, 1, 64)    256         conv2d[0][0]                     \n",
      "__________________________________________________________________________________________________\n",
      "batch_normalization_1 (BatchNor (None, 53, 1, 64)    256         conv2d_1[0][0]                   \n",
      "__________________________________________________________________________________________________\n",
      "batch_normalization_2 (BatchNor (None, 52, 1, 64)    256         conv2d_2[0][0]                   \n",
      "__________________________________________________________________________________________________\n",
      "lstm (LSTM)                     (None, 56, 64)       93440       embedding[0][0]                  \n",
      "__________________________________________________________________________________________________\n",
      "max_pooling2d (MaxPooling2D)    (None, 1, 1, 64)     0           batch_normalization[0][0]        \n",
      "__________________________________________________________________________________________________\n",
      "max_pooling2d_1 (MaxPooling2D)  (None, 1, 1, 64)     0           batch_normalization_1[0][0]      \n",
      "__________________________________________________________________________________________________\n",
      "max_pooling2d_2 (MaxPooling2D)  (None, 1, 1, 64)     0           batch_normalization_2[0][0]      \n",
      "__________________________________________________________________________________________________\n",
      "batch_normalization_3 (BatchNor (None, 56, 64)       256         lstm[0][0]                       \n",
      "__________________________________________________________________________________________________\n",
      "concatenate (Concatenate)       (None, 1, 1, 192)    0           max_pooling2d[0][0]              \n",
      "                                                                 max_pooling2d_1[0][0]            \n",
      "                                                                 max_pooling2d_2[0][0]            \n",
      "__________________________________________________________________________________________________\n",
      "lstm_1 (LSTM)                   (None, 32)           12416       batch_normalization_3[0][0]      \n",
      "__________________________________________________________________________________________________\n",
      "flatten (Flatten)               (None, 192)          0           concatenate[0][0]                \n",
      "__________________________________________________________________________________________________\n",
      "batch_normalization_4 (BatchNor (None, 32)           128         lstm_1[0][0]                     \n",
      "__________________________________________________________________________________________________\n",
      "dense (Dense)                   (None, 10)           1930        flatten[0][0]                    \n",
      "__________________________________________________________________________________________________\n",
      "dense_1 (Dense)                 (None, 10)           330         batch_normalization_4[0][0]      \n",
      "__________________________________________________________________________________________________\n",
      "dropout (Dropout)               (None, 10)           0           dense[0][0]                      \n",
      "__________________________________________________________________________________________________\n",
      "dropout_1 (Dropout)             (None, 10)           0           dense_1[0][0]                    \n",
      "__________________________________________________________________________________________________\n",
      "concatenate_1 (Concatenate)     (None, 20)           0           dropout[0][0]                    \n",
      "                                                                 dropout_1[0][0]                  \n",
      "__________________________________________________________________________________________________\n",
      "dense_2 (Dense)                 (None, 2)            42          concatenate_1[0][0]              \n",
      "==================================================================================================\n",
      "Total params: 5,969,402\n",
      "Trainable params: 5,968,826\n",
      "Non-trainable params: 576\n",
      "__________________________________________________________________________________________________\n"
     ]
    }
   ],
   "source": [
    "model = keras.Model(inputs=inputs, outputs=output)\n",
    "early = keras.callbacks.EarlyStopping(monitor='val_loss',\n",
    "                              min_delta=0.003,\n",
    "                              patience=5,\n",
    "                              verbose=1, mode='auto')\n",
    "\n",
    "model.compile(optimizer=keras.optimizers.Adam(lr=0.001),\n",
    "             loss=keras.losses.BinaryCrossentropy(),\n",
    "             metrics=['accuracy'])\n",
    "model.summary()"
   ]
  },
  {
   "cell_type": "code",
   "execution_count": 11,
   "metadata": {
    "id": "bwJJM8abMMHI",
    "colab_type": "code",
    "outputId": "8cad8c43-4dc8-4a9e-b442-013064798443",
    "colab": {
     "base_uri": "https://localhost:8080/",
     "height": 394.0
    }
   },
   "outputs": [
    {
     "name": "stdout",
     "output_type": "stream",
     "text": [
      "Traning Model...\n"
     ]
    },
    {
     "name": "stderr",
     "output_type": "stream",
     "text": [
      "WARNING: Logging before flag parsing goes to stderr.\n",
      "W0711 15:04:32.002383 140497379411840 deprecation.py:323] From /usr/local/lib/python3.6/dist-packages/tensorflow/python/ops/math_grad.py:1250: add_dispatch_support.<locals>.wrapper (from tensorflow.python.ops.array_ops) is deprecated and will be removed in a future version.\n",
      "Instructions for updating:\n",
      "Use tf.where in 2.0, which has the same broadcast rule as np.where\n"
     ]
    },
    {
     "name": "stdout",
     "output_type": "stream",
     "text": [
      "Train on 7676 samples, validate on 1919 samples\n",
      "Epoch 1/100\n",
      "7676/7676 [==============================] - 113s 15ms/sample - loss: 0.6762 - accuracy: 0.6072 - val_loss: 0.6254 - val_accuracy: 0.6321\n",
      "Epoch 2/100\n",
      "7676/7676 [==============================] - 107s 14ms/sample - loss: 0.3717 - accuracy: 0.8498 - val_loss: 0.5519 - val_accuracy: 0.7389\n",
      "Epoch 3/100\n",
      "7676/7676 [==============================] - 106s 14ms/sample - loss: 0.1350 - accuracy: 0.9554 - val_loss: 0.6180 - val_accuracy: 0.7311\n",
      "Epoch 4/100\n",
      "7676/7676 [==============================] - 107s 14ms/sample - loss: 0.0478 - accuracy: 0.9855 - val_loss: 0.8165 - val_accuracy: 0.7275\n",
      "Epoch 5/100\n",
      "7676/7676 [==============================] - 107s 14ms/sample - loss: 0.0247 - accuracy: 0.9936 - val_loss: 1.0786 - val_accuracy: 0.7092\n",
      "Epoch 6/100\n",
      "7676/7676 [==============================] - 103s 13ms/sample - loss: 0.0194 - accuracy: 0.9941 - val_loss: 0.8978 - val_accuracy: 0.7400\n",
      "Epoch 7/100\n",
      "7676/7676 [==============================] - 101s 13ms/sample - loss: 0.0200 - accuracy: 0.9940 - val_loss: 0.8299 - val_accuracy: 0.7394\n",
      "Epoch 00007: early stopping\n"
     ]
    }
   ],
   "source": [
    "print(\"Traning Model...\")\n",
    "history = model.fit(X_train, y_train, batch_size=BATCH_SIZE, epochs=n_epochs,  callbacks=[early,], validation_data=(X_val, y_val))"
   ]
  },
  {
   "cell_type": "code",
   "execution_count": 0,
   "metadata": {
    "id": "MOQJDeYsSQMY",
    "colab_type": "code",
    "colab": {}
   },
   "outputs": [],
   "source": [
    "model.save('drive/My Drive/Text_Classification/model_one/model.h5')"
   ]
  },
  {
   "cell_type": "code",
   "execution_count": 13,
   "metadata": {
    "id": "Fp9hvkMTRyFq",
    "colab_type": "code",
    "outputId": "bf7ca13f-38ef-41e1-9e28-2f0e098f60dc",
    "colab": {
     "base_uri": "https://localhost:8080/",
     "height": 269.0
    }
   },
   "outputs": [
    {
     "data": {
      "image/png": "[encoded data removed]",
      "text/plain": [
       "<Figure size 432x288 with 1 Axes>"
      ]
     },
     "metadata": {
      "tags": []
     },
     "output_type": "display_data"
    }
   ],
   "source": [
    "import matplotlib.pyplot as plt\n",
    "plt.plot(history.history['accuracy'])\n",
    "plt.plot(history.history['val_accuracy'])\n",
    "plt.legend(['training', 'validation'], loc='upper left')\n",
    "plt.show()"
   ]
  },
  {
   "cell_type": "code",
   "execution_count": 14,
   "metadata": {
    "id": "tdj3BJCCSJ3Q",
    "colab_type": "code",
    "outputId": "b0f7b668-42ae-4307-e0cb-19c374c85bae",
    "colab": {
     "base_uri": "https://localhost:8080/",
     "height": 269.0
    }
   },
   "outputs": [
    {
     "data": {
      "image/png": "[encoded data removed]",
      "text/plain": [
       "<Figure size 432x288 with 1 Axes>"
      ]
     },
     "metadata": {
      "tags": []
     },
     "output_type": "display_data"
    }
   ],
   "source": [
    "plt.plot(history.history['loss'])\n",
    "plt.plot(history.history['val_loss'])\n",
    "plt.legend(['training', 'validation'], loc='upper left')\n",
    "plt.show()"
   ]
  },
  {
   "cell_type": "code",
   "execution_count": 15,
   "metadata": {
    "id": "T9w6VX4QNfqk",
    "colab_type": "code",
    "outputId": "5bc82b07-31b0-41ad-99f3-6d85620b0e2f",
    "colab": {
     "base_uri": "https://localhost:8080/",
     "height": 34.0
    }
   },
   "outputs": [
    {
     "name": "stdout",
     "output_type": "stream",
     "text": [
      "1067/1067 [==============================] - 5s 4ms/sample - loss: 0.8944 - accuracy: 0.7366\n"
     ]
    }
   ],
   "source": [
    "res = model.evaluate(X_test, y_test)"
   ]
  }
 ],
 "metadata": {
  "colab": {
   "name": "text_classification_01.ipynb",
   "version": "0.3.2",
   "provenance": [],
   "collapsed_sections": []
  },
  "kernelspec": {
   "name": "python3",
   "display_name": "Python 3"
  },
  "accelerator": "GPU"
 },
 "nbformat": 4,
 "nbformat_minor": 0
}
